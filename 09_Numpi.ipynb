{
 "cells": [
  {
   "cell_type": "code",
   "execution_count": null,
   "id": "e2ec56cf",
   "metadata": {},
   "outputs": [
    {
     "name": "stdout",
     "output_type": "stream",
     "text": [
      "2.3.1\n"
     ]
    }
   ],
   "source": [
    "import numpy #pip install numpy command\n",
    "print(numpy.__version__)"
   ]
  },
  {
   "cell_type": "code",
   "execution_count": 2,
   "id": "bd10b347",
   "metadata": {},
   "outputs": [],
   "source": [
    "import numpy as np #import numpy\n"
   ]
  },
  {
   "cell_type": "code",
   "execution_count": null,
   "id": "bb34e62f",
   "metadata": {},
   "outputs": [
    {
     "name": "stdout",
     "output_type": "stream",
     "text": [
      "[ 1  2  4 56  7  8  9]\n",
      "<class 'numpy.ndarray'>\n"
     ]
    }
   ],
   "source": [
    "#creating array using numpy\n",
    "x=np.array([1,2,4,56,7,8,9])#create array  \n",
    "print(x)\n",
    "print(type(x))#which type of array\n"
   ]
  },
  {
   "cell_type": "code",
   "execution_count": null,
   "id": "6d2c5ae5",
   "metadata": {},
   "outputs": [
    {
     "name": "stdout",
     "output_type": "stream",
     "text": [
      "[0 1 2 3 4 5 6 7 8 9]\n",
      "[]\n",
      "[-5]\n"
     ]
    }
   ],
   "source": [
    "y=np.arange(10)\n",
    "print(y)#[0 1 2 3 4 5 6 7 8 9]\n",
    "x=np.arange(-10)\n",
    "print(x)# it give empty array\n",
    "z=np.arange(-5,-10,-20)\n",
    "print(z)#[-5]"
   ]
  },
  {
   "cell_type": "code",
   "execution_count": null,
   "id": "444ec1ab",
   "metadata": {},
   "outputs": [
    {
     "name": "stdout",
     "output_type": "stream",
     "text": [
      "[0.89816588 0.14377297 0.65241439 0.4037723 ]\n"
     ]
    }
   ],
   "source": [
    "x=np.random.random(size=4) # random array creation using numpy size=4  range(0,1)start to end\n",
    "print(x)"
   ]
  },
  {
   "cell_type": "code",
   "execution_count": null,
   "id": "14d10917",
   "metadata": {},
   "outputs": [
    {
     "name": "stdout",
     "output_type": "stream",
     "text": [
      "[[0.24702958 0.37040577 0.8819327  0.30704325 0.69328331]\n",
      " [0.38434458 0.28913881 0.4087447  0.73997874 0.65077367]\n",
      " [0.03618102 0.09660888 0.16110003 0.11453119 0.12625703]]\n"
     ]
    }
   ],
   "source": [
    "x=np.random.random( size=(3,5)) #create  2d array 3 row and 4 coloum range(0,1)\n",
    "print(x)"
   ]
  },
  {
   "cell_type": "code",
   "execution_count": null,
   "id": "6ae75709",
   "metadata": {},
   "outputs": [
    {
     "name": "stdout",
     "output_type": "stream",
     "text": [
      "[[20  5 37]\n",
      " [16 41 44]\n",
      " [41 38  7]\n",
      " [ 5 32 49]]\n"
     ]
    }
   ],
   "source": [
    "x=np.random.randint(50,size=(4,3))# create random 2d array range 0 to 50 -- 4  coloum and 3 row\n",
    "print(x)"
   ]
  },
  {
   "cell_type": "code",
   "execution_count": 14,
   "id": "a3d0e77f",
   "metadata": {},
   "outputs": [
    {
     "name": "stdout",
     "output_type": "stream",
     "text": [
      "[[[17 19 15]\n",
      "  [15 17 17]\n",
      "  [16 17 15]]\n",
      "\n",
      " [[17 19 18]\n",
      "  [15 17 15]\n",
      "  [16 16 15]]\n",
      "\n",
      " [[16 19 15]\n",
      "  [15 17 15]\n",
      "  [16 15 19]]]\n"
     ]
    }
   ],
   "source": [
    "#wap to create three dimensional numpy array with the dimesion 3*3*3 having value in between 15 to 20\n",
    "x=np.random.randint(low=15,high=20,size=(3,3,3))\n",
    "print(x)"
   ]
  },
  {
   "cell_type": "code",
   "execution_count": null,
   "id": "59eff18f",
   "metadata": {},
   "outputs": [
    {
     "name": "stdout",
     "output_type": "stream",
     "text": [
      "[-15   5  25  45  65]\n"
     ]
    }
   ],
   "source": [
    "#create[-15 5 25 45 65]array\n",
    "x=np.arange(-15,66,20)# -15 start 66 end 20 diffrence. \n",
    "print(x)"
   ]
  },
  {
   "cell_type": "code",
   "execution_count": 20,
   "id": "cd939c15",
   "metadata": {},
   "outputs": [
    {
     "name": "stdout",
     "output_type": "stream",
     "text": [
      "[ 0  1  2  3  4  5  6  7  8  9 10 11 12 13 14 15 16 17 18 19]\n",
      "[[ 0  1  2  3]\n",
      " [ 4  5  6  7]\n",
      " [ 8  9 10 11]\n",
      " [12 13 14 15]\n",
      " [16 17 18 19]]\n",
      "[[[ 0  1]\n",
      "  [ 2  3]]\n",
      "\n",
      " [[ 4  5]\n",
      "  [ 6  7]]\n",
      "\n",
      " [[ 8  9]\n",
      "  [10 11]]\n",
      "\n",
      " [[12 13]\n",
      "  [14 15]]\n",
      "\n",
      " [[16 17]\n",
      "  [18 19]]]\n"
     ]
    }
   ],
   "source": [
    "# convert 1d array to 2d array using reshape\n",
    "x=np.arange(20)\n",
    "print(x)\n",
    "x=np.arange(20).reshape(5,4)#20=5*4....so on 5 row and 4 coloum\n",
    "print(x)#converted 2d array 4,5\n",
    "x=np.arange(20).reshape(5,2,2)\n",
    "print(x)"
   ]
  },
  {
   "cell_type": "code",
   "execution_count": null,
   "id": "93f9d72f",
   "metadata": {},
   "outputs": [
    {
     "name": "stdout",
     "output_type": "stream",
     "text": [
      "[[ 0  1  2  3]\n",
      " [ 4  5  6  7]\n",
      " [ 8  9 10 11]\n",
      " [12 13 14 15]\n",
      " [16 17 18 19]]\n",
      "1\n"
     ]
    }
   ],
   "source": [
    "#find 2d array values using their index[3,4]row and coloums\n",
    "arr=np.arange(20).reshape(5,4)\n",
    "print(arr)#create 2d array\n",
    "print(arr[0,1]) #1 is value"
   ]
  },
  {
   "cell_type": "code",
   "execution_count": null,
   "id": "a6e83df2",
   "metadata": {},
   "outputs": [
    {
     "name": "stdout",
     "output_type": "stream",
     "text": [
      "[[[ 0  1  2  3  4]\n",
      "  [ 5  6  7  8  9]]\n",
      "\n",
      " [[10 11 12 13 14]\n",
      "  [15 16 17 18 19]]]\n",
      "14\n"
     ]
    }
   ],
   "source": [
    "#create 3 d array and find value \n",
    "arr=np.arange(20)\n",
    "arr1=np.arange(20).reshape(2,2,5)\n",
    "print(arr1)\n",
    "print(arr1[1,-2,4])#14\n"
   ]
  },
  {
   "cell_type": "markdown",
   "id": "54e59689",
   "metadata": {},
   "source": [
    "slicing operation in 2d array and 3d array"
   ]
  },
  {
   "cell_type": "code",
   "execution_count": null,
   "id": "186ac05c",
   "metadata": {},
   "outputs": [
    {
     "data": {
      "text/plain": [
       "array([3, 5, 7])"
      ]
     },
     "execution_count": 4,
     "metadata": {},
     "output_type": "execute_result"
    }
   ],
   "source": [
    "arr1=np.arange(10)\n",
    "arr2=np.arange(12).reshape(3,4)\n",
    "arr3=np.arange(24).reshape(2,4,3)\n",
    "\n",
    "arr1[3:-1:2]#slicing opeartion {:}-3 starting index -1 endig index 2 "
   ]
  },
  {
   "cell_type": "code",
   "execution_count": 6,
   "id": "4ce816e6",
   "metadata": {},
   "outputs": [
    {
     "name": "stdout",
     "output_type": "stream",
     "text": [
      "[0 1 2 3 4 5 6 7 8 9]\n",
      "[9 8 7 6 5 4 3 2 1 0]\n",
      "[2 4 6 8]\n"
     ]
    }
   ],
   "source": [
    "#slicing in 1d array (same as python list slicing)\n",
    "arr1=np.arange(10)\n",
    "print(arr1[::])\n",
    "print(arr1[::-1])\n",
    "print(arr1[2::2])"
   ]
  },
  {
   "cell_type": "markdown",
   "id": "68e67310",
   "metadata": {},
   "source": [
    "2d array slicing perform"
   ]
  },
  {
   "cell_type": "code",
   "execution_count": 7,
   "id": "7c59ea87",
   "metadata": {},
   "outputs": [
    {
     "data": {
      "text/plain": [
       "array([[11,  8],\n",
       "       [ 3,  0]])"
      ]
     },
     "execution_count": 7,
     "metadata": {},
     "output_type": "execute_result"
    }
   ],
   "source": [
    "arr2=np.arange(12).reshape(3,4)\n",
    "arr2[-1::-2,-1::-3]"
   ]
  },
  {
   "cell_type": "code",
   "execution_count": 9,
   "id": "de678297",
   "metadata": {},
   "outputs": [
    {
     "data": {
      "text/plain": [
       "array([[ 4,  6],\n",
       "       [ 8, 10]])"
      ]
     },
     "execution_count": 9,
     "metadata": {},
     "output_type": "execute_result"
    }
   ],
   "source": [
    "# find [4,6\n",
    "#8,10] using 2 d array\n",
    "arr2[1::, ::2]"
   ]
  },
  {
   "cell_type": "code",
   "execution_count": 10,
   "id": "4ae6dc07",
   "metadata": {},
   "outputs": [
    {
     "data": {
      "text/plain": [
       "array([[ 0,  1,  2,  3],\n",
       "       [ 4,  5,  6,  7],\n",
       "       [ 8,  9, 10, 11]])"
      ]
     },
     "execution_count": 10,
     "metadata": {},
     "output_type": "execute_result"
    }
   ],
   "source": [
    "arr2"
   ]
  },
  {
   "cell_type": "code",
   "execution_count": null,
   "id": "6b99477b",
   "metadata": {},
   "outputs": [
    {
     "name": "stdout",
     "output_type": "stream",
     "text": [
      "[0 1 2 3]\n",
      "[0 4 8]\n",
      "[[ 5  6  7]\n",
      " [ 9 10 11]]\n",
      "[0 4 8]\n"
     ]
    }
   ],
   "source": [
    "#slicing in 2d array\n",
    "print(arr2[0,:])##slicing in 2d array\n",
    "print(arr2[:,0])\n",
    "print(arr2[1:,1:])\n",
    "print(arr2[::,0])\n",
    "\n",
    "\n"
   ]
  },
  {
   "cell_type": "code",
   "execution_count": 14,
   "id": "13c44f67",
   "metadata": {},
   "outputs": [
    {
     "name": "stdout",
     "output_type": "stream",
     "text": [
      "[[[ 0  1  2]\n",
      "  [ 3  4  5]\n",
      "  [ 6  7  8]\n",
      "  [ 9 10 11]]\n",
      "\n",
      " [[12 13 14]\n",
      "  [15 16 17]\n",
      "  [18 19 20]\n",
      "  [21 22 23]]]\n"
     ]
    }
   ],
   "source": [
    "#slicing perform 3d array\n",
    "arr3=np.arange(24).reshape(2,4,3)\n",
    "print(arr3)"
   ]
  },
  {
   "cell_type": "code",
   "execution_count": null,
   "id": "4c7eac9f",
   "metadata": {},
   "outputs": [
    {
     "name": "stdout",
     "output_type": "stream",
     "text": [
      "[[ 0  1  2]\n",
      " [ 3  4  5]\n",
      " [ 6  7  8]\n",
      " [ 9 10 11]]\n",
      "\n",
      "[0 1 2]\n",
      "\n",
      "[[12 13 14]\n",
      " [15 16 17]\n",
      " [18 19 20]]\n",
      "\n",
      "[[0 2]\n",
      " [3 5]]\n",
      "[[2]\n",
      " [5]]\n"
     ]
    }
   ],
   "source": [
    "#slicing in 3d array\n",
    "arr3[1,1::2,::2]\n",
    "print(arr3[0],end='\\n\\n')\n",
    "print(arr3[0,0],end='\\n\\n')\n",
    "print(arr3[1,:3],end='\\n\\n')\n",
    "print(arr3[0,:2,::2])\n",
    "\n"
   ]
  }
 ],
 "metadata": {
  "kernelspec": {
   "display_name": "Python 3",
   "language": "python",
   "name": "python3"
  },
  "language_info": {
   "codemirror_mode": {
    "name": "ipython",
    "version": 3
   },
   "file_extension": ".py",
   "mimetype": "text/x-python",
   "name": "python",
   "nbconvert_exporter": "python",
   "pygments_lexer": "ipython3",
   "version": "3.13.5"
  }
 },
 "nbformat": 4,
 "nbformat_minor": 5
}
