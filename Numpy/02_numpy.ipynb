{
 "cells": [
  {
   "cell_type": "code",
   "execution_count": 7,
   "id": "b2cd430d",
   "metadata": {},
   "outputs": [],
   "source": [
    "import numpy as np\n",
    "\n"
   ]
  },
  {
   "cell_type": "markdown",
   "id": "5429bf9a",
   "metadata": {},
   "source": [
    "BOOLEAN ARRAYS(masks)\n",
    "\n",
    "In NumPy, a boolean array is an array where each element is either True or False. These are typically used for filtering, masking, or logical operations on arrays.\n"
   ]
  },
  {
   "cell_type": "code",
   "execution_count": null,
   "id": "84a1da71",
   "metadata": {},
   "outputs": [
    {
     "name": "stdout",
     "output_type": "stream",
     "text": [
      "[ True False  True]\n"
     ]
    }
   ],
   "source": [
    "#MANUAL CREATION BOOLEAN ARRAYS\n",
    "import numpy as np\n",
    "\n",
    "bool_arr = np.array([True, False, True])\n",
    "print(bool_arr)\n"
   ]
  },
  {
   "cell_type": "code",
   "execution_count": 3,
   "id": "6d5f635a",
   "metadata": {},
   "outputs": [
    {
     "name": "stdout",
     "output_type": "stream",
     "text": [
      "[False False False  True  True]\n"
     ]
    }
   ],
   "source": [
    "#COMPARISON IN BOOOLEAN ARRAYS\n",
    "arr = np.array([1, 2, 3, 4, 5])\n",
    "bool_arr = arr > 3\n",
    "print(bool_arr)  # [False False False  True  True]\n",
    "\n"
   ]
  },
  {
   "cell_type": "markdown",
   "id": "83d740c5",
   "metadata": {},
   "source": [
    "SOME TASK PERFORM IN BOOLEAN ARRAYS\n"
   ]
  },
  {
   "cell_type": "code",
   "execution_count": 9,
   "id": "f4d43883",
   "metadata": {},
   "outputs": [
    {
     "name": "stdout",
     "output_type": "stream",
     "text": [
      "[0 1 2 3]\n"
     ]
    }
   ],
   "source": [
    "a=np.arange(4)\n",
    "print(a)"
   ]
  },
  {
   "cell_type": "code",
   "execution_count": 10,
   "id": "76a76131",
   "metadata": {},
   "outputs": [
    {
     "data": {
      "text/plain": [
       "array([0, 3])"
      ]
     },
     "execution_count": 10,
     "metadata": {},
     "output_type": "execute_result"
    }
   ],
   "source": [
    "a[[0,-1]]"
   ]
  },
  {
   "cell_type": "code",
   "execution_count": 14,
   "id": "2d45692b",
   "metadata": {},
   "outputs": [
    {
     "data": {
      "text/plain": [
       "array([False, False,  True,  True])"
      ]
     },
     "execution_count": 14,
     "metadata": {},
     "output_type": "execute_result"
    }
   ],
   "source": [
    "#BOOLEAN ARRAYS\n",
    "a[[0,1,2,3]]#BOOLEAN ARRAYS\n",
    "\n",
    "# basic operation\n",
    "a >= 2 \n",
    "#compare index value in array[o,1,2,3 >=2]\n",
    "\n",
    "\n"
   ]
  },
  {
   "cell_type": "code",
   "execution_count": 13,
   "id": "d000e0eb",
   "metadata": {},
   "outputs": [
    {
     "data": {
      "text/plain": [
       "array([2, 3])"
      ]
     },
     "execution_count": 13,
     "metadata": {},
     "output_type": "execute_result"
    }
   ],
   "source": [
    "a[a >=2]"
   ]
  }
 ],
 "metadata": {
  "kernelspec": {
   "display_name": "Python 3",
   "language": "python",
   "name": "python3"
  },
  "language_info": {
   "codemirror_mode": {
    "name": "ipython",
    "version": 3
   },
   "file_extension": ".py",
   "mimetype": "text/x-python",
   "name": "python",
   "nbconvert_exporter": "python",
   "pygments_lexer": "ipython3",
   "version": "3.13.5"
  }
 },
 "nbformat": 4,
 "nbformat_minor": 5
}
