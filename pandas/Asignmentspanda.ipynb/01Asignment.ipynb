{
 "cells": [
  {
   "cell_type": "markdown",
   "id": "9883706c",
   "metadata": {},
   "source": [
    "ASIGNMENT BASED ON DATA FRAME\n",
    "USING TITANIC DATA SET"
   ]
  },
  {
   "cell_type": "code",
   "execution_count": 18,
   "id": "3f1c6961",
   "metadata": {},
   "outputs": [],
   "source": [
    "import pandas as pd\n"
   ]
  },
  {
   "cell_type": "code",
   "execution_count": 19,
   "id": "1fa922a5",
   "metadata": {},
   "outputs": [
    {
     "name": "stdout",
     "output_type": "stream",
     "text": [
      "     PassengerId  Survived  Pclass  \\\n",
      "0            892         0       3   \n",
      "1            893         1       3   \n",
      "2            894         0       2   \n",
      "3            895         0       3   \n",
      "4            896         1       3   \n",
      "..           ...       ...     ...   \n",
      "413         1305         0       3   \n",
      "414         1306         1       1   \n",
      "415         1307         0       3   \n",
      "416         1308         0       3   \n",
      "417         1309         0       3   \n",
      "\n",
      "                                             Name     Sex   Age  SibSp  Parch  \\\n",
      "0                                Kelly, Mr. James    male  34.5      0      0   \n",
      "1                Wilkes, Mrs. James (Ellen Needs)  female  47.0      1      0   \n",
      "2                       Myles, Mr. Thomas Francis    male  62.0      0      0   \n",
      "3                                Wirz, Mr. Albert    male  27.0      0      0   \n",
      "4    Hirvonen, Mrs. Alexander (Helga E Lindqvist)  female  22.0      1      1   \n",
      "..                                            ...     ...   ...    ...    ...   \n",
      "413                            Spector, Mr. Woolf    male   NaN      0      0   \n",
      "414                  Oliva y Ocana, Dona. Fermina  female  39.0      0      0   \n",
      "415                  Saether, Mr. Simon Sivertsen    male  38.5      0      0   \n",
      "416                           Ware, Mr. Frederick    male   NaN      0      0   \n",
      "417                      Peter, Master. Michael J    male   NaN      1      1   \n",
      "\n",
      "                 Ticket      Fare Cabin Embarked  \n",
      "0                330911    7.8292   NaN        Q  \n",
      "1                363272    7.0000   NaN        S  \n",
      "2                240276    9.6875   NaN        Q  \n",
      "3                315154    8.6625   NaN        S  \n",
      "4               3101298   12.2875   NaN        S  \n",
      "..                  ...       ...   ...      ...  \n",
      "413           A.5. 3236    8.0500   NaN        S  \n",
      "414            PC 17758  108.9000  C105        C  \n",
      "415  SOTON/O.Q. 3101262    7.2500   NaN        S  \n",
      "416              359309    8.0500   NaN        S  \n",
      "417                2668   22.3583   NaN        C  \n",
      "\n",
      "[418 rows x 12 columns]\n"
     ]
    }
   ],
   "source": [
    "# 1. Display the names of all passengers who paid a fare greater than $100\n",
    "# and were under the age of 30.\n",
    "df=pd.read_csv('Titanic Dataset.csv')\n",
    "print(pd.DataFrame(df))\n",
    "\n",
    "#check how many coloms\n",
    "# titanic.columns\n",
    "\n",
    "x=((df['Fare']>=100)&(df['Age']<30)).value_counts()\n",
    "\n",
    "\n",
    "\n",
    "\n",
    "\n"
   ]
  },
  {
   "cell_type": "code",
   "execution_count": 28,
   "id": "32f5bd3e",
   "metadata": {},
   "outputs": [
    {
     "name": "stdout",
     "output_type": "stream",
     "text": [
      "                                                  Name   Age  Survived\n",
      "96   Cavendish, Mrs. Tyrell William (Julia Florence...  76.0         1\n",
      "81                                  Straus, Mr. Isidor  67.0         0\n",
      "236                           Warren, Mr. Frank Manley  64.0         0\n",
      "179  Compton, Mrs. Alexander Taylor (Mary Eliza Ing...  64.0         1\n",
      "305  Crosby, Mrs. Edward Gifford (Catherine Elizabe...  64.0         1\n"
     ]
    }
   ],
   "source": [
    "#2. Find the top 5 oldest passengers. What are their names, ages, and\n",
    "# whether they survived?\n",
    "\n",
    "df.columns\n",
    "# Sort by age in descending order and select top 5\n",
    "\n",
    "\n",
    "top_oldest=df.sort_values(by='Age',ascending=False).head()\n",
    "\n",
    "#Display required coloums\n",
    "print(top_oldest[['Name','Age','Survived']])\n",
    "\n"
   ]
  },
  {
   "cell_type": "code",
   "execution_count": null,
   "id": "f6f3927d",
   "metadata": {},
   "outputs": [],
   "source": []
  }
 ],
 "metadata": {
  "kernelspec": {
   "display_name": "Python 3",
   "language": "python",
   "name": "python3"
  },
  "language_info": {
   "codemirror_mode": {
    "name": "ipython",
    "version": 3
   },
   "file_extension": ".py",
   "mimetype": "text/x-python",
   "name": "python",
   "nbconvert_exporter": "python",
   "pygments_lexer": "ipython3",
   "version": "3.13.5"
  }
 },
 "nbformat": 4,
 "nbformat_minor": 5
}
