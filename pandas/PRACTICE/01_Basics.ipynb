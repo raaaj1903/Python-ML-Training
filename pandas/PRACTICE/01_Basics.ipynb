{
 "cells": [
  {
   "cell_type": "markdown",
   "id": "146e6b52",
   "metadata": {},
   "source": [
    "______pandas____\n",
    "Data point---single Row\n",
    "Feature--coloum\n",
    "\n",
    "3 things in pandas  data\n",
    "1-series -one daminsional\n",
    "2-data frame-two dimensional\n",
    "3-pannel-three dimensional\n",
    "\n",
    "#dataframes-- single coloum per work karna --series\n",
    "multiple colomes called --dataframes"
   ]
  },
  {
   "cell_type": "code",
   "execution_count": 2,
   "id": "e310f41f",
   "metadata": {},
   "outputs": [],
   "source": [
    "import pandas as pd\n",
    "import numpy as np\n"
   ]
  },
  {
   "cell_type": "code",
   "execution_count": 3,
   "id": "6e7143d4",
   "metadata": {},
   "outputs": [
    {
     "name": "stdout",
     "output_type": "stream",
     "text": [
      "0    0.707457\n",
      "1    0.801038\n",
      "2    0.096219\n",
      "3    0.304296\n",
      "dtype: float64\n",
      "0        2\n",
      "1      3.4\n",
      "2    hello\n",
      "3        1\n",
      "4       34\n",
      "dtype: object\n",
      "RangeIndex(start=0, stop=4, step=1)\n"
     ]
    }
   ],
   "source": [
    "#series starting\n",
    "\n",
    "series1=pd.Series(np.random.random(4))\n",
    "print(series1)\n",
    "series2=pd.Series([2,3.4,\"hello\",1,34])\n",
    "print(series2)\n",
    "print(series1.index)\n"
   ]
  },
  {
   "cell_type": "markdown",
   "id": "0257cb9c",
   "metadata": {},
   "source": [
    "create series using dictionary"
   ]
  },
  {
   "cell_type": "code",
   "execution_count": 4,
   "id": "74d3415f",
   "metadata": {},
   "outputs": [
    {
     "name": "stdout",
     "output_type": "stream",
     "text": [
      "x     NaN\n",
      "y    2024\n",
      "z     NaN\n",
      "dtype: object\n"
     ]
    }
   ],
   "source": [
    "dict={\"m\":1,\"y\":2024,\"d\":\"sunday\"}\n",
    "s3=pd.Series(dict)\n",
    "\n",
    "s4=pd.Series(dict,index=['x','y','z'])\n",
    "print(s4)"
   ]
  },
  {
   "cell_type": "code",
   "execution_count": 13,
   "id": "191e066b",
   "metadata": {},
   "outputs": [
    {
     "name": "stdout",
     "output_type": "stream",
     "text": [
      "a    0.715038\n",
      "b    0.733993\n",
      "c    0.928451\n",
      "d    0.491472\n",
      "dtype: float64\n",
      "Index(['a', 'b', 'c', 'd'], dtype='object')\n"
     ]
    }
   ],
   "source": [
    "s1=pd.Series(np.random.random(4),index=['a','b','c','d'])\n",
    "print(s1)\n",
    "print(s1.index)"
   ]
  },
  {
   "cell_type": "markdown",
   "id": "f3e7dc78",
   "metadata": {},
   "source": [
    "creating a list from Scaler Value"
   ]
  },
  {
   "cell_type": "code",
   "execution_count": 15,
   "id": "68da0ff6",
   "metadata": {},
   "outputs": [
    {
     "name": "stdout",
     "output_type": "stream",
     "text": [
      "Creating series from sacler value\n",
      "a    8\n",
      "b    8\n",
      "c    8\n",
      "d    8\n",
      "dtype: int64\n"
     ]
    }
   ],
   "source": [
    "print(\"Creating series from sacler value\")\n",
    "scl=pd.Series(8,index=['a','b','c','d'])\n",
    "print(scl)"
   ]
  },
  {
   "cell_type": "code",
   "execution_count": 4,
   "id": "0d4cb067",
   "metadata": {},
   "outputs": [
    {
     "name": "stdout",
     "output_type": "stream",
     "text": [
      "series1\n",
      "0    0.707457\n",
      "1    0.801038\n",
      "2    0.096219\n",
      "3    0.304296\n",
      "dtype: float64\n",
      "\n",
      " mean: 0.47725261346629533\n",
      "\n",
      " median: 0.5058766532450805\n",
      "\n",
      " maximum: 0.8010379176951488\n",
      "\n",
      " minimum: 0.0962192296798714\n",
      "\n",
      " minimum: 0.0962192296798714\n"
     ]
    }
   ],
   "source": [
    "print('series1')\n",
    "print(series1)\n",
    "#series sample operations\n",
    "print('\\n mean:',series1.mean())#calculate the mean of the values in the series.\n",
    "print('\\n median:',series1.median())\n",
    "print('\\n maximum:',series1.max())\n",
    "print('\\n minimum:',series1.min())\n",
    "print('\\n minimum:',series1.min())"
   ]
  },
  {
   "cell_type": "markdown",
   "id": "279b8f02",
   "metadata": {},
   "source": [
    "mathematical operation on series\n"
   ]
  },
  {
   "cell_type": "code",
   "execution_count": 16,
   "id": "afb2e462",
   "metadata": {},
   "outputs": [
    {
     "name": "stdout",
     "output_type": "stream",
     "text": [
      "origional series:\n",
      "a    1\n",
      "b    2\n",
      "c    3\n",
      "d    4\n",
      "dtype: int64\n",
      "a    2\n",
      "b    4\n",
      "c    6\n",
      "d    8\n",
      "dtype: int64\n",
      "\n",
      "a     1\n",
      "b     4\n",
      "c     9\n",
      "d    16\n",
      "dtype: int64\n",
      "a    0\n",
      "b    0\n",
      "c    0\n",
      "d    0\n",
      "dtype: int64\n",
      "a    0.5\n",
      "b    1.0\n",
      "c    1.5\n",
      "d    2.0\n",
      "dtype: float64\n",
      "a     1\n",
      "b     4\n",
      "c     9\n",
      "d    16\n",
      "dtype: int64\n",
      "a    1.000000\n",
      "b    1.414214\n",
      "c    1.732051\n",
      "d    2.000000\n",
      "dtype: float64\n",
      "a     1\n",
      "b     3\n",
      "c     6\n",
      "d    10\n",
      "dtype: int64\n",
      "a     1\n",
      "b     2\n",
      "c     6\n",
      "d    24\n",
      "dtype: int64\n"
     ]
    }
   ],
   "source": [
    "s1=pd.Series([1,2,3,4],index=['a','b','c','d'])\n",
    "print(\"origional series:\")\n",
    "print(s1)\n",
    "\n",
    "#addition\n",
    "print(s1+s1)\n",
    "\n",
    "#adition with non matched labels\n",
    "print()\n",
    "\n",
    "#multiplication\n",
    "print(s1*s1)\n",
    "\n",
    "#more mathematica operator\n",
    "#substrection\n",
    "print(s1-s1)\n",
    "\n",
    "#division\n",
    "print(s1/2)\n",
    "\n",
    "#exponntiation\n",
    "print(s1**2)\n",
    "\n",
    "#square root\n",
    "print(s1.apply(np.sqrt))\n",
    "\n",
    "#comulatative sum\n",
    "print(s1.cumsum())\n",
    "\n",
    "#cumulatative product\n",
    "print(s1.cumprod())\n",
    "\n"
   ]
  },
  {
   "cell_type": "code",
   "execution_count": null,
   "id": "34d0af40",
   "metadata": {},
   "outputs": [],
   "source": [
    "#index in seris\n"
   ]
  },
  {
   "cell_type": "code",
   "execution_count": 1,
   "id": "f6ac0c10",
   "metadata": {},
   "outputs": [
    {
     "name": "stdout",
     "output_type": "stream",
     "text": [
      "[1 2 3]\n"
     ]
    }
   ],
   "source": [
    "#valuse\n",
    "import pandas as pd\n",
    "s=pd.Series([1,2,3],index=['a','b','c'])\n",
    "print(s.values)"
   ]
  },
  {
   "cell_type": "code",
   "execution_count": 3,
   "id": "1b05ff15",
   "metadata": {},
   "outputs": [
    {
     "name": "stdout",
     "output_type": "stream",
     "text": [
      "3\n"
     ]
    }
   ],
   "source": [
    "#size\n",
    "s=pd.Series([1,2,3],index=['a','b','c'])\n",
    "print(s.size)"
   ]
  },
  {
   "cell_type": "code",
   "execution_count": null,
   "id": "af2fae3b",
   "metadata": {},
   "outputs": [
    {
     "name": "stdout",
     "output_type": "stream",
     "text": [
      "(3,)\n"
     ]
    }
   ],
   "source": [
    "#shape\n",
    "s=pd.Series([1,2,3],index=['a','b','c'])\n",
    "print(s.shape) "
   ]
  },
  {
   "cell_type": "code",
   "execution_count": null,
   "id": "6ab05eae",
   "metadata": {},
   "outputs": [
    {
     "name": "stdout",
     "output_type": "stream",
     "text": [
      "True\n",
      "False\n"
     ]
    }
   ],
   "source": [
    "#uniqe\n",
    "#crate a series with uniquw valuess\n",
    "s1 = pd.Series([90,80,70,60])\n",
    "print(s1.is_unique) #all value are similar true\n",
    "\n",
    "#\n",
    "s1 = pd.Series([90,80,60,70,60,])\n",
    "print(s1.is_unique)# false 60 repeated"
   ]
  },
  {
   "cell_type": "code",
   "execution_count": null,
   "id": "f6e54d53",
   "metadata": {},
   "outputs": [
    {
     "name": "stdout",
     "output_type": "stream",
     "text": [
      "0    1.0\n",
      "1    2.0\n",
      "2    3.0\n",
      "3    NaN\n",
      "4    4.0\n",
      "dtype: float64\n",
      "0    False\n",
      "1    False\n",
      "2    False\n",
      "3     True\n",
      "4    False\n",
      "dtype: bool\n"
     ]
    }
   ],
   "source": [
    "s=pd.Series([1,2,3,None,4])\n",
    "print(s)\n",
    "print(s.isnull())#output \n"
   ]
  },
  {
   "cell_type": "code",
   "execution_count": null,
   "id": "f580ce77",
   "metadata": {},
   "outputs": [
    {
     "name": "stdout",
     "output_type": "stream",
     "text": [
      "a    1\n",
      "b    2\n",
      "c    3\n",
      "d    4\n",
      "e    5\n",
      "dtype: int64\n"
     ]
    }
   ],
   "source": [
    "#indexing crete ASERIES WITH COUSTOM INDEX\n",
    "data=pd.Series([1,2,3,4,5],index=['a','b','c','d','e'])\n",
    "print(data)\n"
   ]
  },
  {
   "cell_type": "code",
   "execution_count": null,
   "id": "01996576",
   "metadata": {},
   "outputs": [
    {
     "name": "stdout",
     "output_type": "stream",
     "text": [
      "3\n"
     ]
    }
   ],
   "source": [
    "#1 accesing sinngle elements\n",
    "#using label indexing\n",
    "print(data['c'])#3"
   ]
  },
  {
   "cell_type": "code",
   "execution_count": 8,
   "id": "cd4f1dc5",
   "metadata": {},
   "outputs": [
    {
     "name": "stdout",
     "output_type": "stream",
     "text": [
      "a    1\n",
      "b    2\n",
      "c    3\n",
      "d    4\n",
      "e    5\n",
      "dtype: int64\n"
     ]
    }
   ],
   "source": [
    "#accesing multiple data\n",
    "data=pd.Series([1,2,3,4,5],index=['a','b','c','d','e'])\n",
    "print(data[['a','b','c','d','e']])"
   ]
  },
  {
   "cell_type": "code",
   "execution_count": null,
   "id": "719cd715",
   "metadata": {},
   "outputs": [],
   "source": [
    "#slicing with labels\n",
    "\n",
    "data1=pd.Series([1,2,3,4,5],index=['a','b','c','d','e'])\n"
   ]
  }
 ],
 "metadata": {
  "kernelspec": {
   "display_name": "Python 3",
   "language": "python",
   "name": "python3"
  },
  "language_info": {
   "codemirror_mode": {
    "name": "ipython",
    "version": 3
   },
   "file_extension": ".py",
   "mimetype": "text/x-python",
   "name": "python",
   "nbconvert_exporter": "python",
   "pygments_lexer": "ipython3",
   "version": "3.13.5"
  }
 },
 "nbformat": 4,
 "nbformat_minor": 5
}
