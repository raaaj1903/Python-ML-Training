{
 "cells": [
  {
   "cell_type": "code",
   "execution_count": 1,
   "id": "21207ff6",
   "metadata": {},
   "outputs": [],
   "source": [
    "import pandas as pd\n"
   ]
  },
  {
   "cell_type": "code",
   "execution_count": 3,
   "id": "53b511e0",
   "metadata": {},
   "outputs": [
    {
     "name": "stdout",
     "output_type": "stream",
     "text": [
      "      Name  Age  Salary    Fields\n",
      "0      Raj   12   12332   Teacher\n",
      "1    Rishi   34     435    Doctor\n",
      "2  Pratham   56    6554  Youtuber\n",
      "3    Palak   67  675767     Judge\n"
     ]
    }
   ],
   "source": [
    "#using data creat dictionary\n",
    "\n",
    "data={'Name':['Raj','Rishi','Pratham','Palak'],\n",
    "      'Age':[12,34,56,67],\n",
    "      'Salary':[12332,435,6554,675767],\n",
    "      'Fields':['Teacher','Doctor','Youtuber','Judge']\n",
    "      }\n",
    "\n",
    "df=pd.DataFrame(data)\n",
    "print(df)\n"
   ]
  },
  {
   "cell_type": "markdown",
   "id": "97346938",
   "metadata": {},
   "source": [
    " 1--wap display the name and age of employe where salary is less then mean salary\n",
    "\n",
    " step-1 need to find the mean sakary\n",
    " step-2 filter critera to find needed salary (salary is less then mean salary)\n",
    " "
   ]
  },
  {
   "cell_type": "code",
   "execution_count": 8,
   "id": "2d5cf9b5",
   "metadata": {},
   "outputs": [
    {
     "data": {
      "text/plain": [
       "0     True\n",
       "1     True\n",
       "2     True\n",
       "3    False\n",
       "Name: Salary, dtype: bool"
      ]
     },
     "execution_count": 8,
     "metadata": {},
     "output_type": "execute_result"
    }
   ],
   "source": [
    "df['Salary'] < df['Salary'].mean()\n",
    "\n"
   ]
  }
 ],
 "metadata": {
  "kernelspec": {
   "display_name": "Python 3",
   "language": "python",
   "name": "python3"
  },
  "language_info": {
   "codemirror_mode": {
    "name": "ipython",
    "version": 3
   },
   "file_extension": ".py",
   "mimetype": "text/x-python",
   "name": "python",
   "nbconvert_exporter": "python",
   "pygments_lexer": "ipython3",
   "version": "3.13.5"
  }
 },
 "nbformat": 4,
 "nbformat_minor": 5
}
