{
 "cells": [
  {
   "cell_type": "markdown",
   "id": "fdd97f85",
   "metadata": {},
   "source": [
    "Q1. Write a program which will be calculate  the mean of each row from a matrix. (Create a matrix of\n",
    "random elements)\n",
    "\n"
   ]
  },
  {
   "cell_type": "code",
   "execution_count": null,
   "id": "d47dea8a",
   "metadata": {},
   "outputs": [
    {
     "name": "stdout",
     "output_type": "stream",
     "text": [
      "Matrix:\n",
      "[[75 26 58 87 68]\n",
      " [28 77  9 37  5]\n",
      " [92 21 88 91 99]\n",
      " [39 29 82  1 81]]\n"
     ]
    }
   ],
   "source": [
    "import numpy as np\n",
    "rows = 4\n",
    "cols = 5\n",
    "matrix = np.random.randint(1, 101, size=(rows, cols))\n",
    "\n",
    "print(\"Matrix:\")\n",
    "print(matrix)\n",
    "\n",
    "row_means = np.mean(matrix, axis=1)\n",
    "\n",
    "\n",
    "\n",
    "\n"
   ]
  },
  {
   "cell_type": "markdown",
   "id": "a0251ace",
   "metadata": {},
   "source": [
    "Q2. Write a python program to count the number of elements in 2D array.\n",
    "Test case: Input: np.array([1, 2])\n",
    "Expected Output: 2"
   ]
  },
  {
   "cell_type": "code",
   "execution_count": null,
   "id": "673b9115",
   "metadata": {},
   "outputs": [
    {
     "name": "stdout",
     "output_type": "stream",
     "text": [
      "[[0 1]\n",
      " [2 3]\n",
      " [4 5]\n",
      " [6 7]\n",
      " [8 9]]\n",
      "10\n"
     ]
    }
   ],
   "source": [
    "\n",
    "\n",
    "array=np.arange(10).reshape(5,2)\n",
    "print(array)\n",
    "elements=array.size\n",
    "print(elements)"
   ]
  },
  {
   "cell_type": "markdown",
   "id": "03404d30",
   "metadata": {},
   "source": [
    "Q.11 Using a given array make a different array as in below example\n",
    "array = [1,2,3]\n",
    "result array -> [1 1 1 2 2 2 3 3 3]\n",
    "• Internal repeation should be as length of the array."
   ]
  },
  {
   "cell_type": "code",
   "execution_count": 9,
   "id": "abfeeaf7",
   "metadata": {},
   "outputs": [
    {
     "name": "stdout",
     "output_type": "stream",
     "text": [
      "Result array: [1 1 1 2 2 2 3 3 3]\n"
     ]
    }
   ],
   "source": [
    "import numpy as np\n",
    "array = np.array([1, 2, 3])\n",
    "n = len(array)\n",
    "result = np.repeat(array, n)\n",
    "print(\"Result array:\", result)"
   ]
  },
  {
   "cell_type": "markdown",
   "id": "38d75130",
   "metadata": {},
   "source": [
    "Q7. Write a program which makes an array having corresponding max value out of two given\n",
    "arrays.\n",
    "Input:\n",
    "a=np.array([6,3,1,5,8])\n",
    "b=np.array([3,2,1,7,2])\n",
    "Output: [6 3 1 7 8]\n"
   ]
  },
  {
   "cell_type": "code",
   "execution_count": 13,
   "id": "bcf21a49",
   "metadata": {},
   "outputs": [
    {
     "name": "stdout",
     "output_type": "stream",
     "text": [
      "result [6 3 1 7 8]\n"
     ]
    }
   ],
   "source": [
    "a=np.array([6,3,1,5,8])\n",
    "b=np.array([3,2,1,7,2])\n",
    "result=np.maximum(a,b)\n",
    "print(\"result\",result)"
   ]
  },
  {
   "cell_type": "markdown",
   "id": "84dc18e1",
   "metadata": {},
   "source": [
    "Q7. Convert negative values in a Series to absolute values:\n",
    "Test case 1:\n",
    "Input: Series([-10, 5, -3, 2, -7])\n",
    "Output: Series([10, 5, 3, 2, 7])"
   ]
  },
  {
   "cell_type": "code",
   "execution_count": null,
   "id": "654c93ba",
   "metadata": {},
   "outputs": [
    {
     "name": "stdout",
     "output_type": "stream",
     "text": [
      "0   -10\n",
      "1     5\n",
      "2    -3\n",
      "3     2\n",
      "4    -7\n",
      "dtype: int64\n",
      "<bound method NDFrame.__pos__ of 0   -10\n",
      "1     5\n",
      "2    -3\n",
      "3     2\n",
      "4    -7\n",
      "dtype: int64>\n"
     ]
    }
   ],
   "source": [
    "import pandas as pd\n",
    "x=pd.Series([-10,5,-3,2,-7])\n",
    "print(x)\n",
    "result=pd.Series(x)\n",
    "print(result)"
   ]
  },
  {
   "cell_type": "markdown",
   "id": "a6b9f4de",
   "metadata": {},
   "source": [
    "Q8. Find positions of prime numbers in a Series and return the\n",
    "count:\n",
    "Test case 1:\n",
    "Input: Series([10, 7, 3, 15, 17])\n",
    "Output: 3"
   ]
  },
  {
   "cell_type": "code",
   "execution_count": null,
   "id": "db623198",
   "metadata": {},
   "outputs": [
    {
     "ename": "AttributeError",
     "evalue": "module 'pandas' has no attribute 'x'",
     "output_type": "error",
     "traceback": [
      "\u001b[31m---------------------------------------------------------------------------\u001b[39m",
      "\u001b[31mAttributeError\u001b[39m                            Traceback (most recent call last)",
      "\u001b[36mCell\u001b[39m\u001b[36m \u001b[39m\u001b[32mIn[24]\u001b[39m\u001b[32m, line 2\u001b[39m\n\u001b[32m      1\u001b[39m x=pd.Series([\u001b[32m10\u001b[39m, \u001b[32m7\u001b[39m, \u001b[32m3\u001b[39m, \u001b[32m15\u001b[39m, \u001b[32m17\u001b[39m])\n\u001b[32m----> \u001b[39m\u001b[32m2\u001b[39m y=\u001b[43mpd\u001b[49m\u001b[43m.\u001b[49m\u001b[43mx\u001b[49m.size\n\u001b[32m      3\u001b[39m \u001b[38;5;28mprint\u001b[39m(x)\n",
      "\u001b[31mAttributeError\u001b[39m: module 'pandas' has no attribute 'x'"
     ]
    }
   ],
   "source": [
    "x=pd.Series([10, 7, 3, 15, 17])\n",
    "\n",
    "\n",
    "print(x)\n"
   ]
  },
  {
   "cell_type": "code",
   "execution_count": null,
   "id": "ea7cacbb",
   "metadata": {},
   "outputs": [
    {
     "name": "stdout",
     "output_type": "stream",
     "text": [
      "[1 2 0 4 0 0 7 0]\n"
     ]
    }
   ],
   "source": [
    "import numpy as np\n",
    "\n",
    "def replace_multiples(arr):\n",
    "    arr = np.array(arr)  \n",
    "    arr[(arr % 3 == 0) | (arr % 5 == 0)] = 0\n",
    "    return arr\n",
    "\n",
    "\n",
    "input_array = [1, 2, 3, 4, 5, 6, 7, 9]\n",
    "output_array = replace_multiples(input_array)\n",
    "print(output_array)\n"
   ]
  }
 ],
 "metadata": {
  "kernelspec": {
   "display_name": "Python 3",
   "language": "python",
   "name": "python3"
  },
  "language_info": {
   "codemirror_mode": {
    "name": "ipython",
    "version": 3
   },
   "file_extension": ".py",
   "mimetype": "text/x-python",
   "name": "python",
   "nbconvert_exporter": "python",
   "pygments_lexer": "ipython3",
   "version": "3.13.5"
  }
 },
 "nbformat": 4,
 "nbformat_minor": 5
}
