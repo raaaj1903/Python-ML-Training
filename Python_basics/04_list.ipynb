{
 "cells": [
  {
   "cell_type": "markdown",
   "id": "a287de7d",
   "metadata": {},
   "source": [
    "LIST IN PYTHON\n",
    "\n",
    "1-A list is a mutable (changeable) ordered collection of elements. You can add, remove, or change elements after the list is created.\n",
    "\n",
    "✅ Syntax:\n",
    "my_list[]\n",
    "my_list = [1, 2, 3, 4]\n",
    "\n",
    "✅ Features:\n",
    "Mutable (can be changed)\n",
    "\n",
    "Allows duplicates\n",
    "\n",
    "Allows different data types\n",
    "\n",
    "Can be nested (a list inside a list)\n",
    "\n"
   ]
  },
  {
   "cell_type": "code",
   "execution_count": null,
   "id": "b5843663",
   "metadata": {},
   "outputs": [
    {
     "name": "stdout",
     "output_type": "stream",
     "text": [
      "<class 'list'>\n",
      "[1, 2, 3, 6, 7, 8, 9]\n",
      "1\n",
      "2\n",
      "9\n",
      "['raj', 'rishi', 'pratham']\n"
     ]
    }
   ],
   "source": [
    "\n",
    "# mutable\n",
    "# mixed data type \n",
    "# linear data structure\n",
    "# multiple values\n",
    "\n",
    "empty_list=[]#syntax\n",
    "empty_list=list()\n",
    "print(type(empty_list))#<class 'list'>\n",
    "list_int=[1,2,3,6,7,8,9]\n",
    "print(list_int)\n",
    "\n",
    "#aceess data in list using index\n",
    "print(list_int[0])\n",
    "print(list_int[1])\n",
    "\n",
    "#print(list_int[9])#list index out of range\n",
    "print(list_int[-1])#9\n",
    "\n",
    "lis_string=[\"raj\",\"rishi\",\"pratham\"]\n",
    "print(lis_string)"
   ]
  },
  {
   "cell_type": "code",
   "execution_count": 44,
   "id": "0c30f975",
   "metadata": {},
   "outputs": [
    {
     "name": "stdout",
     "output_type": "stream",
     "text": [
      "[1, 2, ['helllo', 'raj', 1.23], 3.9]\n",
      "['helllo', 'raj', 1.23]\n",
      "3.9\n",
      "[2, ['helllo', 'raj', 1.23], 3.9]\n"
     ]
    }
   ],
   "source": [
    "list_raj=[1,2,[\"helllo\",\"raj\",1.23],3.9]\n",
    "print(list_raj)\n",
    "print(list_raj[2])\n",
    "print(list_raj[-1])\n",
    "\n",
    "\n",
    "# [start:end:step]\n",
    "print(list_raj[1:4:1])#slicing\n",
    "# print[list_raj[::-1]]' object is not subscriptable\n",
    "\n",
    "\n"
   ]
  },
  {
   "cell_type": "code",
   "execution_count": null,
   "id": "e0220aa4",
   "metadata": {},
   "outputs": [
    {
     "name": "stdout",
     "output_type": "stream",
     "text": [
      "[1, 2, 3, 4, 5, 6, 7, 8, 9]\n",
      "[1, 2, 3, 99, 5, 6, 7, 8, 9]\n",
      "[1, 2, 3, 99, 5, 6, 7, 8, 9, 88]\n",
      "[1, 2, 3, 99, 56, 5, 6, 7, 8, 9, 88]\n",
      "[1, 2, 55, 3, 99, 56, 5, 6, 7, 8, 9, 88]\n"
     ]
    }
   ],
   "source": [
    "#new methodes\n",
    "list=[1,2,3,4,5,6,7,8,9]\n",
    "print(list)\n",
    "list[3]=99\n",
    "print(list) #changes in original list\n",
    "\n",
    "#append method In Python, the .append() method is used to add an item to the end of a list.\n",
    "list.append(88)#add end of list\n",
    "print(list)\n",
    "\n",
    "\n",
    "#insert -The .insert() method in Python lists is used to add an item at a specific position.\n",
    "list.insert(4,56)# we give as input index and value\n",
    "print(list)\n",
    "\n",
    "list.insert(2,55)\n",
    "print(list)#[1, 2, 55, 3, 99, 56, 5, 6, 7, 8, 9, 88]\n",
    "\n",
    "\n"
   ]
  }
 ],
 "metadata": {
  "kernelspec": {
   "display_name": "Python 3",
   "language": "python",
   "name": "python3"
  },
  "language_info": {
   "codemirror_mode": {
    "name": "ipython",
    "version": 3
   },
   "file_extension": ".py",
   "mimetype": "text/x-python",
   "name": "python",
   "nbconvert_exporter": "python",
   "pygments_lexer": "ipython3",
   "version": "3.13.5"
  }
 },
 "nbformat": 4,
 "nbformat_minor": 5
}
