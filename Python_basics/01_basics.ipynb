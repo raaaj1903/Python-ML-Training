{
 "cells": [
  {
   "cell_type": "code",
   "execution_count": null,
   "id": "01c402cf",
   "metadata": {},
   "outputs": [
    {
     "name": "stdout",
     "output_type": "stream",
     "text": [
      "Hello word\n"
     ]
    }
   ],
   "source": [
    "#DAY--1 Basic of Python\n",
    "print(\"Hello word\");"
   ]
  },
  {
   "cell_type": "code",
   "execution_count": null,
   "id": "98f696fb",
   "metadata": {},
   "outputs": [
    {
     "name": "stdout",
     "output_type": "stream",
     "text": [
      "140713968026728\n",
      "140713968026664 140713968026760\n",
      "3013813730352\n"
     ]
    }
   ],
   "source": [
    "x=7\n",
    "y=5\n",
    "z=8\n",
    "print(id(x))#In Python, the id() function returns the unique identity (i.e., the memory address) of an object.\n",
    "print(id(y),id(z))#return adress1432673\n",
    "y=\"RAJ\"\n",
    "print(id(y))\n",
    "#Python stores same data value under same address and if we change the variable its address will also changed"
   ]
  },
  {
   "cell_type": "code",
   "execution_count": 1,
   "id": "25ff83c7",
   "metadata": {},
   "outputs": [
    {
     "name": "stdout",
     "output_type": "stream",
     "text": [
      "Hello \"raj\"\n"
     ]
    }
   ],
   "source": [
    "# how to give  user input in python\n",
    "\n",
    "name=input(\"Enter your name: \")\n",
    "print(\"Hello\", name)"
   ]
  },
  {
   "cell_type": "code",
   "execution_count": 2,
   "id": "409cc20c",
   "metadata": {},
   "outputs": [
    {
     "name": "stdout",
     "output_type": "stream",
     "text": [
      "\"raj\"\n"
     ]
    }
   ],
   "source": [
    "\n",
    "name=input(\"Enter your name: \")\n",
    "print(name)"
   ]
  },
  {
   "cell_type": "code",
   "execution_count": null,
   "id": "fcb3b0ec",
   "metadata": {},
   "outputs": [],
   "source": [
    "name =input(\"enter your name: \")\n",
    "w=int(input(\"enter your age:\"))"
   ]
  },
  {
   "cell_type": "code",
   "execution_count": null,
   "id": "d3c153ad",
   "metadata": {},
   "outputs": [
    {
     "name": "stdout",
     "output_type": "stream",
     "text": [
      "hello \"raj\" you are 20 years old and your height is 5.3 in feets.\n"
     ]
    }
   ],
   "source": [
    "#do some task using with python\n",
    "name=input(\"Enter your name: \")\n",
    "age=int(input('enter your age: '))\n",
    "height=float(input(\"enter your height: \"))\n",
    "print(\"hello\",name,\"you are\",age,\"years old and your height is\",height,\"in feets.\")"
   ]
  },
  {
   "cell_type": "code",
   "execution_count": 2,
   "id": "bce52127",
   "metadata": {},
   "outputs": [
    {
     "name": "stdout",
     "output_type": "stream",
     "text": [
      "Area is 400 in cm sequare\n",
      "perameter is 80 in cm\n"
     ]
    }
   ],
   "source": [
    "#WAP which take length and breadth of a rectangle and caculate area and perimeter of it\n",
    "l=eval(input(\"enter lenght of rectangle in cm:\"))\n",
    "w=eval(input(\"enter width pf rectangle in cm: \"))\n",
    "area=l*w\n",
    "perameter=2*(l+w)\n",
    "print(\"Area is\",area,\"in cm sequare\")\n",
    "print(\"perameter is\",perameter,\"in cm\")"
   ]
  },
  {
   "cell_type": "code",
   "execution_count": 3,
   "id": "8e7d3115",
   "metadata": {},
   "outputs": [
    {
     "name": "stdout",
     "output_type": "stream",
     "text": [
      "Area is 200.0 In cm square\n"
     ]
    }
   ],
   "source": [
    "\n",
    "#WAP which take base and height of triangle and display its area\n",
    "b=eval(input(\"Enter base of triangle in cm: \"))\n",
    "h=eval(input(\"Enter height of triangle in cm: \"))\n",
    "area=0.5*b*h\n",
    "print(\"Area is\",area,\"In cm square\")"
   ]
  },
  {
   "cell_type": "code",
   "execution_count": null,
   "id": "8c9e61f7",
   "metadata": {},
   "outputs": [
    {
     "data": {
      "text/plain": [
       "4"
      ]
     },
     "execution_count": 7,
     "metadata": {},
     "output_type": "execute_result"
    }
   ],
   "source": [
    "# Some Basic Mathematical Operation \n",
    "\n",
    "# Subtraction operation expression\n",
    "\n",
    "50 - 60  #-10\n",
    "\n",
    "# Multiplication operation expression\n",
    "\n",
    "5 * 5 #25\n",
    "\n",
    "# Division operation expression\n",
    "\n",
    "25 / 5 # 5.0\n",
    "\n",
    "# Division operation expression\n",
    "\n",
    "25 / 6 #4.166666666666667\n",
    "\n",
    "\n",
    "#As seen in the quiz above,\n",
    "#we can use the double slash for integer\n",
    "#division, where the result is rounded down to\n",
    "#the nearest integer:\n",
    "\n",
    "# Integer division operation expression\n",
    "\n",
    "25 // 5 #5\n",
    "\n",
    "24//5# it gives only 4\n",
    "\n",
    "\n",
    "\n",
    "\n"
   ]
  },
  {
   "cell_type": "code",
   "execution_count": 4,
   "id": "8cbb06a8",
   "metadata": {},
   "outputs": [
    {
     "name": "stdout",
     "output_type": "stream",
     "text": [
      "raj\n",
      "raj\n",
      "raj\n",
      "rishi\n"
     ]
    }
   ],
   "source": [
    "usernames=\"raj\"\n",
    "print(usernames)\n",
    "\n",
    "username1=usernames\n",
    "print(username1)\n",
    "\n",
    "usernames=\"rishi\"\n",
    "print(username1)\n",
    "\n",
    "print(usernames)"
   ]
  },
  {
   "cell_type": "code",
   "execution_count": 1,
   "id": "fad58d97",
   "metadata": {},
   "outputs": [
    {
     "data": {
      "text/plain": [
       "5"
      ]
     },
     "execution_count": 1,
     "metadata": {},
     "output_type": "execute_result"
    }
   ],
   "source": [
    "raj=\"hellomike\"\n",
    "raj.find(\"mike\")"
   ]
  },
  {
   "cell_type": "code",
   "execution_count": 4,
   "id": "935b72ce",
   "metadata": {},
   "outputs": [
    {
     "name": "stdout",
     "output_type": "stream",
     "text": [
      "3\n",
      "Python is \"awesome\"\n"
     ]
    }
   ],
   "source": [
    "x=5\n",
    "x=x-2\n",
    "print(x)\n",
    "\n",
    "'5' + '6'\n",
    "\n",
    "print(\"Python is \\\"awesome\\\"\")"
   ]
  },
  {
   "cell_type": "code",
   "execution_count": null,
   "id": "926c72b0",
   "metadata": {},
   "outputs": [],
   "source": [
    "x=5\n",
    "x=x-2\n",
    "print(x)\n",
    "\n",
    "'5' + '6'\n",
    "\n",
    "print(\"Python is \\\"awesome\\\"\")"
   ]
  }
 ],
 "metadata": {
  "kernelspec": {
   "display_name": "Python 3",
   "language": "python",
   "name": "python3"
  },
  "language_info": {
   "codemirror_mode": {
    "name": "ipython",
    "version": 3
   },
   "file_extension": ".py",
   "mimetype": "text/x-python",
   "name": "python",
   "nbconvert_exporter": "python",
   "pygments_lexer": "ipython3",
   "version": "3.13.5"
  }
 },
 "nbformat": 4,
 "nbformat_minor": 5
}
