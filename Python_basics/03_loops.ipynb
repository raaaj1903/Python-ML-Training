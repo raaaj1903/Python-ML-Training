{
 "cells": [
  {
   "cell_type": "code",
   "execution_count": 1,
   "id": "1c14179d",
   "metadata": {},
   "outputs": [
    {
     "name": "stdout",
     "output_type": "stream",
     "text": [
      "1357911131517"
     ]
    }
   ],
   "source": [
    "i=1\n",
    "while i<19:\n",
    "    print(i,end=\"\")\n",
    "    i+=2"
   ]
  },
  {
   "cell_type": "code",
   "execution_count": null,
   "id": "93603e76",
   "metadata": {},
   "outputs": [],
   "source": []
  },
  {
   "cell_type": "markdown",
   "id": "329e0329",
   "metadata": {},
   "source": [
    "\n",
    "WAP which will print sum of all odd number between 25 to 70"
   ]
  },
  {
   "cell_type": "code",
   "execution_count": 3,
   "id": "5f244f98",
   "metadata": {},
   "outputs": [
    {
     "name": "stdout",
     "output_type": "stream",
     "text": [
      "1081\n"
     ]
    }
   ],
   "source": [
    "i=25\n",
    "sum=0\n",
    "while i>=25 and  i<=70:\n",
    "    if i%2==1:\n",
    "        sum=sum+i\n",
    "\n",
    "    i+=1\n",
    "print(sum)\n",
    "\n"
   ]
  },
  {
   "cell_type": "markdown",
   "id": "8568dcdc",
   "metadata": {},
   "source": [
    "WAP which will take number as a input from user and print factors of that number"
   ]
  },
  {
   "cell_type": "code",
   "execution_count": 4,
   "id": "004d7084",
   "metadata": {},
   "outputs": [
    {
     "name": "stdout",
     "output_type": "stream",
     "text": [
      "1 2 4 5 10 20 "
     ]
    }
   ],
   "source": [
    "n=int(input(\"Enter the Number\"))\n",
    "i=1\n",
    "while i<=n:\n",
    "    if n%i==0:\n",
    "        print(i,end=\" \")\n",
    "    i+=1    "
   ]
  },
  {
   "cell_type": "markdown",
   "id": "b7b61d24",
   "metadata": {},
   "source": [
    "\n",
    "WAP to implement factorial"
   ]
  },
  {
   "cell_type": "code",
   "execution_count": 5,
   "id": "a05b692f",
   "metadata": {},
   "outputs": [
    {
     "name": "stdout",
     "output_type": "stream",
     "text": [
      "120\n"
     ]
    }
   ],
   "source": [
    "n=int(input(\"Enter the Number\"))\n",
    "fact=1\n",
    "while n>0:\n",
    "    fact=fact*n\n",
    "    n=n-1\n",
    "print(fact)    \n"
   ]
  },
  {
   "cell_type": "markdown",
   "id": "f73bc3bb",
   "metadata": {},
   "source": []
  }
 ],
 "metadata": {
  "kernelspec": {
   "display_name": "Python 3",
   "language": "python",
   "name": "python3"
  },
  "language_info": {
   "codemirror_mode": {
    "name": "ipython",
    "version": 3
   },
   "file_extension": ".py",
   "mimetype": "text/x-python",
   "name": "python",
   "nbconvert_exporter": "python",
   "pygments_lexer": "ipython3",
   "version": "3.13.5"
  }
 },
 "nbformat": 4,
 "nbformat_minor": 5
}
