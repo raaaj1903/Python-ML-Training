{
 "cells": [
  {
   "cell_type": "code",
   "execution_count": 4,
   "id": "c06193d0",
   "metadata": {},
   "outputs": [
    {
     "name": "stdout",
     "output_type": "stream",
     "text": [
      "You Are Eligible\n"
     ]
    }
   ],
   "source": [
    "#WAP which will take age as input from user and print his eligiblity to vote\n",
    "age=int(input(\"Enter you are age pls : \"))\n",
    "if(age>=18):\n",
    "    print(\"You Are Eligible\")\n",
    "\n",
    "else:{\n",
    "    print(\"Not Allowed\")\n",
    "}\n",
    "\n",
    " "
   ]
  },
  {
   "cell_type": "code",
   "execution_count": null,
   "id": "6145cf6b",
   "metadata": {},
   "outputs": [
    {
     "name": "stdout",
     "output_type": "stream",
     "text": [
      "YES ZERO\n"
     ]
    }
   ],
   "source": [
    "\n",
    "#WAP which take number as input from user and check whether it is positive , negative or zero\n",
    "num=int(input(\"Entre Your Number Here Plz:\"))\n",
    "if(num==0):\n",
    " print(\"YES ZERO\")\n",
    "elif(num>0):\n",
    " print(\"Num is +\")\n",
    "else:\n",
    " print(\"NUM IS -\")\n",
    "\n",
    "\n"
   ]
  },
  {
   "cell_type": "code",
   "execution_count": 8,
   "id": "e1ae47eb",
   "metadata": {},
   "outputs": [
    {
     "name": "stdout",
     "output_type": "stream",
     "text": [
      "Adult\n"
     ]
    }
   ],
   "source": [
    "\n",
    "#WAP which take input age and determine phase like child ,teen ,Adult and senior\n",
    "\n",
    "age=int(input(\"Enter your age : \"))\n",
    "if(age>45):\n",
    "    print(\"Senior\")\n",
    "elif(age>=20):\n",
    "    print(\"Adult\")\n",
    "elif(age>=13):\n",
    "    print(\"Teenage\")\n",
    "elif(age>0):\n",
    "    print(\"Child\")\n",
    "else:\n",
    "    print(\"Enter positive age\")"
   ]
  },
  {
   "cell_type": "markdown",
   "id": "9ebd76fc",
   "metadata": {},
   "source": [
    "\n",
    "WAP which take 3 numbers as input and print them into ascending order"
   ]
  },
  {
   "cell_type": "code",
   "execution_count": 2,
   "id": "75df641d",
   "metadata": {},
   "outputs": [
    {
     "name": "stdout",
     "output_type": "stream",
     "text": [
      "Ascending order is :  1 2 5\n"
     ]
    }
   ],
   "source": [
    "n1=int(input(\"Enter first NUMBER: \"))\n",
    "n2=int(input(\"Enter Second NUMBER: \"))\n",
    "n3=int(input(\"Enter Third NUMBER: \"))\n",
    "if(n1<n2 and n1<n3):\n",
    "    if(n2<n3):\n",
    "        print(\"Asending Order is: \",n1,n2,n3)\n",
    "\n",
    "    else:\n",
    "        print(\"Asending Order Is: \",n1,n3,n2)\n",
    "\n",
    "elif(n2<n1 and n2<n3):\n",
    "    if(n1<n3):\n",
    "        print(\"Ascending order is : \",n2,n1,n3)\n",
    "    else:\n",
    "        print(\"Ascending order is : \",n2,n3,n1)\n",
    "else:\n",
    "    if(n2<n1):\n",
    "        print(\"Ascending order is : \",n3,n2,n1)\n",
    "    else:\n",
    "        print(\"Ascending order is : \",n3,n1,n2)\n"
   ]
  },
  {
   "cell_type": "markdown",
   "id": "9cfb36ce",
   "metadata": {},
   "source": [
    "WAP which take number as input from user and if number is divisible by 3 it prints fizz ,if it is divisible by 5 it print Buzz and if divisible by both it print FizzBuzz and if not divisible by both print not divisible"
   ]
  },
  {
   "cell_type": "code",
   "execution_count": 6,
   "id": "43ec85c9",
   "metadata": {},
   "outputs": [
    {
     "name": "stdout",
     "output_type": "stream",
     "text": [
      "FizzBuzz\n"
     ]
    }
   ],
   "source": [
    "number=int(input(\"Enter Your Number: \"))\n",
    "if(number%3==0 and number%5==0):\n",
    "    print(\"FizzBuzz\")\n",
    "elif(number%3==0):\n",
    "    print(\"Fizz\")\n",
    "elif(number%5==0):\n",
    "    print(\"Buzz\")\n",
    "else:\n",
    "    print(\"Not Divided\")            "
   ]
  },
  {
   "cell_type": "markdown",
   "id": "bd12666f",
   "metadata": {},
   "source": [
    "\n",
    "Day 2\n",
    "\n",
    "WAP which take 3 numbers as input and print them into ascending order"
   ]
  },
  {
   "cell_type": "code",
   "execution_count": 7,
   "id": "b47799d8",
   "metadata": {},
   "outputs": [
    {
     "name": "stdout",
     "output_type": "stream",
     "text": [
      "20 89 90\n"
     ]
    }
   ],
   "source": [
    "a=int(input(\"First Number: \"))\n",
    "b=int(input(\"Two Number: \"))\n",
    "c=int(input(\"Third Number: \"))\n",
    "if a<b and b<c:\n",
    "    print(a,b,c)\n",
    "elif a<c and c<b:\n",
    "    print(a,c,b)\n",
    "elif b<a and a<c:\n",
    "    print(b,a,c)\n",
    "elif b<c and b<a:\n",
    "    print(b,c,a)\n",
    "elif c<a and a<b:\n",
    "    print(c,a,b)\n",
    "else:\n",
    "    print(c,b,a)    \n"
   ]
  },
  {
   "cell_type": "markdown",
   "id": "a74e4de5",
   "metadata": {},
   "source": [
    "WAP which will take length of the three sides of a triangle from an user and check whether if the triangle is Equilateral, isosceles or Scalene Triangle"
   ]
  },
  {
   "cell_type": "code",
   "execution_count": 9,
   "id": "8103b910",
   "metadata": {},
   "outputs": [
    {
     "name": "stdout",
     "output_type": "stream",
     "text": [
      "equilateral triangle\n"
     ]
    }
   ],
   "source": [
    "\n",
    "side1 = int(input(\"enter the first side of triangle\"))\n",
    "side2 = int(input(\"enter the second side of triangle\"))\n",
    "side3 = int(input(\"enter the third side of triangle\"))\n",
    "\n",
    "if side1==side2 and side2==side3:\n",
    "    print(\"equilateral triangle\")\n",
    "elif side1==side2 or side2==side3:\n",
    "    print(\"isosceles triangle\")\n",
    "else: \n",
    "    print(\"scalene triangle\")"
   ]
  },
  {
   "cell_type": "markdown",
   "id": "83c243d8",
   "metadata": {},
   "source": [
    "\n",
    "WAP which will take length of the three sides of a triangle from an user and check whether if the triangle is Valid or not"
   ]
  },
  {
   "cell_type": "code",
   "execution_count": 10,
   "id": "ba4529b9",
   "metadata": {},
   "outputs": [
    {
     "name": "stdout",
     "output_type": "stream",
     "text": [
      "Triangle Is Valid\n"
     ]
    }
   ],
   "source": [
    "\n",
    "side1 = int(input(\"enter the first side of triangle\"))\n",
    "side2 = int(input(\"enter the second side of triangle\"))\n",
    "side3 = int(input(\"enter the third side of triangle\"))\n",
    "\n",
    "if side1+side2>side3 and side1+side3>side2 and side2+side3>side1:\n",
    "    print(\"Triangle Is Valid\")\n",
    "else:\n",
    "    print(\"Invalid Triangle\")    "
   ]
  },
  {
   "cell_type": "code",
   "execution_count": null,
   "id": "3dca3ebd",
   "metadata": {},
   "outputs": [],
   "source": []
  }
 ],
 "metadata": {
  "kernelspec": {
   "display_name": "Python 3",
   "language": "python",
   "name": "python3"
  },
  "language_info": {
   "codemirror_mode": {
    "name": "ipython",
    "version": 3
   },
   "file_extension": ".py",
   "mimetype": "text/x-python",
   "name": "python",
   "nbconvert_exporter": "python",
   "pygments_lexer": "ipython3",
   "version": "3.13.5"
  }
 },
 "nbformat": 4,
 "nbformat_minor": 5
}
